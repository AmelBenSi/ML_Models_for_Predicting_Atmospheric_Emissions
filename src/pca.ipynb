{
 "cells": [
  {
   "cell_type": "code",
   "execution_count": 1,
   "metadata": {},
   "outputs": [],
   "source": [
    "# Import modules\n",
    "import pandas as pd\n",
    "import matplotlib.pyplot as plt\n",
    "import numpy as np\n",
    "import seaborn as sns\n",
    "import warnings\n",
    "from sklearn.preprocessing import OrdinalEncoder\n",
    "from sklearn.preprocessing import LabelEncoder\n",
    "from sklearn.preprocessing import StandardScaler\n",
    "from sklearn.decomposition import PCA\n",
    "warnings.filterwarnings('ignore')"
   ]
  },
  {
   "cell_type": "code",
   "execution_count": 2,
   "metadata": {},
   "outputs": [],
   "source": [
    "# Load data from an Excel file \n",
    "path = '../data/excel/LAEI2013_MajorRoads_EmissionsbyLink_2013.xlsx'\n",
    "df = pd.read_excel(path)"
   ]
  },
  {
   "cell_type": "markdown",
   "metadata": {},
   "source": [
    "## Data Cleaning"
   ]
  },
  {
   "cell_type": "code",
   "execution_count": 3,
   "metadata": {},
   "outputs": [
    {
     "data": {
      "text/plain": [
       "Index(['GridId', 'Toid', 'GRID_ExactCut_ID', 'Location_ExactCut',\n",
       "       'BoroughName_ExactCut', 'Lts', 'Length (m)', 'Emissions', 'Year',\n",
       "       'Pollutant', 'Emissions Unit', 'Motorcycle', 'Taxi', 'Car',\n",
       "       'BusAndCoach', 'Lgv', 'Rigid', 'Artic', 'Rigid2Axle', 'Rigid3Axle',\n",
       "       'Rigid4Axle', 'Artic3Axle', 'Artic5Axle', 'Artic6Axle', 'PetrolCar',\n",
       "       'DieselCar', 'PetrolLgv', 'DieselLgv', 'LtBus', 'Coach', 'ElectricCar',\n",
       "       'ElectricLgv'],\n",
       "      dtype='object')"
      ]
     },
     "execution_count": 3,
     "metadata": {},
     "output_type": "execute_result"
    }
   ],
   "source": [
    "df.columns"
   ]
  },
  {
   "cell_type": "code",
   "execution_count": 4,
   "metadata": {},
   "outputs": [],
   "source": [
    "df_proc = df.replace(0, np.nan)"
   ]
  },
  {
   "cell_type": "code",
   "execution_count": 5,
   "metadata": {},
   "outputs": [
    {
     "data": {
      "text/plain": [
       "GridId                       0\n",
       "Toid                         0\n",
       "GRID_ExactCut_ID             0\n",
       "Location_ExactCut            0\n",
       "BoroughName_ExactCut         0\n",
       "Lts                          0\n",
       "Length (m)                3760\n",
       "Emissions                    0\n",
       "Year                         0\n",
       "Pollutant                    0\n",
       "Emissions Unit               0\n",
       "Motorcycle               98236\n",
       "Taxi                     31800\n",
       "Car                      13740\n",
       "BusAndCoach             107950\n",
       "Lgv                      17240\n",
       "Rigid                    25940\n",
       "Artic                    63140\n",
       "Rigid2Axle               25940\n",
       "Rigid3Axle               72900\n",
       "Rigid4Axle               57020\n",
       "Artic3Axle               78870\n",
       "Artic5Axle               63150\n",
       "Artic6Axle               90120\n",
       "PetrolCar                13740\n",
       "DieselCar                13740\n",
       "PetrolLgv                17240\n",
       "DieselLgv                17240\n",
       "LtBus                   142250\n",
       "Coach                   233520\n",
       "ElectricCar             154732\n",
       "ElectricLgv             156832\n",
       "dtype: int64"
      ]
     },
     "execution_count": 5,
     "metadata": {},
     "output_type": "execute_result"
    }
   ],
   "source": [
    "df_proc.isnull().sum()"
   ]
  },
  {
   "cell_type": "code",
   "execution_count": 6,
   "metadata": {},
   "outputs": [
    {
     "data": {
      "text/plain": [
       "GridId                    int64\n",
       "Toid                      int64\n",
       "GRID_ExactCut_ID          int64\n",
       "Location_ExactCut        object\n",
       "BoroughName_ExactCut     object\n",
       "Lts                       int64\n",
       "Length (m)              float64\n",
       "Emissions                object\n",
       "Year                      int64\n",
       "Pollutant                object\n",
       "Emissions Unit           object\n",
       "Motorcycle              float64\n",
       "Taxi                    float64\n",
       "Car                     float64\n",
       "BusAndCoach             float64\n",
       "Lgv                     float64\n",
       "Rigid                   float64\n",
       "Artic                   float64\n",
       "Rigid2Axle              float64\n",
       "Rigid3Axle              float64\n",
       "Rigid4Axle              float64\n",
       "Artic3Axle              float64\n",
       "Artic5Axle              float64\n",
       "Artic6Axle              float64\n",
       "PetrolCar               float64\n",
       "DieselCar               float64\n",
       "PetrolLgv               float64\n",
       "DieselLgv               float64\n",
       "LtBus                   float64\n",
       "Coach                   float64\n",
       "ElectricCar             float64\n",
       "ElectricLgv             float64\n",
       "dtype: object"
      ]
     },
     "execution_count": 6,
     "metadata": {},
     "output_type": "execute_result"
    }
   ],
   "source": [
    "df_proc.dtypes"
   ]
  },
  {
   "cell_type": "code",
   "execution_count": 7,
   "metadata": {},
   "outputs": [],
   "source": [
    "df_proc.drop(['ElectricLgv', \n",
    "              'ElectricCar', \n",
    "              'Coach', \n",
    "              'LtBus', \n",
    "              'BusAndCoach', \n",
    "              'Motorcycle', \n",
    "              'GridId', \n",
    "              'Toid', \n",
    "              'GRID_ExactCut_ID', \n",
    "              'Location_ExactCut', \n",
    "              'BoroughName_ExactCut', \n",
    "              'Emissions Unit', \n",
    "              'Year', \n",
    "              'Emissions', \n",
    "              'Lts'], \n",
    "             axis=1, inplace=True)"
   ]
  },
  {
   "cell_type": "code",
   "execution_count": 8,
   "metadata": {},
   "outputs": [],
   "source": [
    "df_proc = df_proc.dropna()"
   ]
  },
  {
   "cell_type": "code",
   "execution_count": 9,
   "metadata": {},
   "outputs": [
    {
     "data": {
      "text/plain": [
       "<bound method NDFrame.describe of         Length (m)  Pollutant          Taxi        Car        Lgv     Rigid  \\\n",
       "0        50.761449        CO2  3.748545e-01  13.572217   1.772671  1.538737   \n",
       "2         5.101391        CO2  3.954047e-02   1.457712   0.188471  0.169197   \n",
       "3         3.757501        CO2  2.912409e-02   1.073698   0.138821  0.124625   \n",
       "4         1.624593        CO2  1.259209e-02   0.464224   0.060020  0.053883   \n",
       "5       294.077765        CO2  2.279373e+00  84.032104  10.864684  9.753649   \n",
       "...            ...        ...           ...        ...        ...       ...   \n",
       "366212  178.704000  PM25_Tyre  4.281042e-06   0.004383   0.000865  0.000265   \n",
       "366213   36.867781  PM25_Tyre  8.832063e-07   0.000904   0.000178  0.000055   \n",
       "366217  150.698967  PM25_Tyre  4.013647e-05   0.001810   0.000318  0.000201   \n",
       "366218   27.459057  PM25_Tyre  7.313319e-06   0.000330   0.000058  0.000037   \n",
       "366219   27.432124  PM25_Tyre  7.306146e-06   0.000329   0.000058  0.000037   \n",
       "\n",
       "           Artic  Rigid2Axle  Rigid3Axle  Rigid4Axle  Artic3Axle  Artic5Axle  \\\n",
       "0       0.609006    1.045237    0.178038    0.315462    0.177074    0.241372   \n",
       "2       0.068765    0.114091    0.020032    0.035074    0.019985    0.027271   \n",
       "3       0.050650    0.084036    0.014755    0.025834    0.014720    0.020087   \n",
       "4       0.021899    0.036334    0.006379    0.011170    0.006365    0.008685   \n",
       "5       3.964048    6.576979    1.154775    2.021895    1.152084    1.572059   \n",
       "...          ...         ...         ...         ...         ...         ...   \n",
       "366212  0.000125    0.000213    0.000021    0.000031    0.000039    0.000056   \n",
       "366213  0.000026    0.000044    0.000004    0.000006    0.000008    0.000012   \n",
       "366217  0.000093    0.000161    0.000018    0.000022    0.000026    0.000045   \n",
       "366218  0.000017    0.000029    0.000003    0.000004    0.000005    0.000008   \n",
       "366219  0.000017    0.000029    0.000003    0.000004    0.000005    0.000008   \n",
       "\n",
       "        Artic6Axle  PetrolCar  DieselCar  PetrolLgv  DieselLgv  \n",
       "0         0.190560   8.761443   4.810774   0.037550   1.735121  \n",
       "2         0.021509   0.939028   0.518684   0.004055   0.184415  \n",
       "3         0.015843   0.691654   0.382044   0.002987   0.135834  \n",
       "4         0.006850   0.299044   0.165180   0.001292   0.058729  \n",
       "5         1.239905  54.131754  29.900350   0.233786  10.630898  \n",
       "...            ...        ...        ...        ...        ...  \n",
       "366212    0.000031   0.002750   0.001632   0.000017   0.000847  \n",
       "366213    0.000006   0.000567   0.000337   0.000003   0.000175  \n",
       "366217    0.000022   0.001136   0.000674   0.000006   0.000312  \n",
       "366218    0.000004   0.000207   0.000123   0.000001   0.000057  \n",
       "366219    0.000004   0.000207   0.000123   0.000001   0.000057  \n",
       "\n",
       "[274360 rows x 17 columns]>"
      ]
     },
     "execution_count": 9,
     "metadata": {},
     "output_type": "execute_result"
    }
   ],
   "source": [
    "df_proc.describe"
   ]
  },
  {
   "cell_type": "code",
   "execution_count": 10,
   "metadata": {},
   "outputs": [
    {
     "data": {
      "text/html": [
       "<div>\n",
       "<style scoped>\n",
       "    .dataframe tbody tr th:only-of-type {\n",
       "        vertical-align: middle;\n",
       "    }\n",
       "\n",
       "    .dataframe tbody tr th {\n",
       "        vertical-align: top;\n",
       "    }\n",
       "\n",
       "    .dataframe thead th {\n",
       "        text-align: right;\n",
       "    }\n",
       "</style>\n",
       "<table border=\"1\" class=\"dataframe\">\n",
       "  <thead>\n",
       "    <tr style=\"text-align: right;\">\n",
       "      <th></th>\n",
       "      <th>Length (m)</th>\n",
       "      <th>Pollutant</th>\n",
       "      <th>Taxi</th>\n",
       "      <th>Car</th>\n",
       "      <th>Lgv</th>\n",
       "      <th>Rigid</th>\n",
       "      <th>Artic</th>\n",
       "      <th>Rigid2Axle</th>\n",
       "      <th>Rigid3Axle</th>\n",
       "      <th>Rigid4Axle</th>\n",
       "      <th>Artic3Axle</th>\n",
       "      <th>Artic5Axle</th>\n",
       "      <th>Artic6Axle</th>\n",
       "      <th>PetrolCar</th>\n",
       "      <th>DieselCar</th>\n",
       "      <th>PetrolLgv</th>\n",
       "      <th>DieselLgv</th>\n",
       "    </tr>\n",
       "  </thead>\n",
       "  <tbody>\n",
       "    <tr>\n",
       "      <th>0</th>\n",
       "      <td>50.761449</td>\n",
       "      <td>CO2</td>\n",
       "      <td>0.374854</td>\n",
       "      <td>13.572217</td>\n",
       "      <td>1.772671</td>\n",
       "      <td>1.538737</td>\n",
       "      <td>0.609006</td>\n",
       "      <td>1.045237</td>\n",
       "      <td>0.178038</td>\n",
       "      <td>0.315462</td>\n",
       "      <td>0.177074</td>\n",
       "      <td>0.241372</td>\n",
       "      <td>0.19056</td>\n",
       "      <td>8.761443</td>\n",
       "      <td>4.810774</td>\n",
       "      <td>0.03755</td>\n",
       "      <td>1.735121</td>\n",
       "    </tr>\n",
       "  </tbody>\n",
       "</table>\n",
       "</div>"
      ],
      "text/plain": [
       "   Length (m) Pollutant      Taxi        Car       Lgv     Rigid     Artic  \\\n",
       "0   50.761449       CO2  0.374854  13.572217  1.772671  1.538737  0.609006   \n",
       "\n",
       "   Rigid2Axle  Rigid3Axle  Rigid4Axle  Artic3Axle  Artic5Axle  Artic6Axle  \\\n",
       "0    1.045237    0.178038    0.315462    0.177074    0.241372     0.19056   \n",
       "\n",
       "   PetrolCar  DieselCar  PetrolLgv  DieselLgv  \n",
       "0   8.761443   4.810774    0.03755   1.735121  "
      ]
     },
     "execution_count": 10,
     "metadata": {},
     "output_type": "execute_result"
    }
   ],
   "source": [
    "df_proc.head(1)"
   ]
  },
  {
   "cell_type": "code",
   "execution_count": 11,
   "metadata": {},
   "outputs": [
    {
     "data": {
      "text/plain": [
       "'Pollutant'"
      ]
     },
     "execution_count": 11,
     "metadata": {},
     "output_type": "execute_result"
    }
   ],
   "source": [
    "df_proc.columns[1]"
   ]
  },
  {
   "cell_type": "markdown",
   "metadata": {},
   "source": [
    "## Preprocessing Data"
   ]
  },
  {
   "cell_type": "markdown",
   "metadata": {},
   "source": [
    "#### Encoding Data"
   ]
  },
  {
   "cell_type": "code",
   "execution_count": 12,
   "metadata": {},
   "outputs": [],
   "source": [
    "# Encoding Pollutants\n",
    "\n",
    "encoder = LabelEncoder()\n",
    "\n",
    "df_proc['Pollutant'] = encoder.fit_transform(df_proc['Pollutant'])\n",
    "df_proc['Pollutant'].unique()\n",
    "df_encoded = df_proc.copy()"
   ]
  },
  {
   "cell_type": "markdown",
   "metadata": {},
   "source": [
    "#### Scaling Data"
   ]
  },
  {
   "cell_type": "code",
   "execution_count": 14,
   "metadata": {},
   "outputs": [],
   "source": [
    "scaler = StandardScaler()\n",
    "\n",
    "# Apply StandardScaler to each column except the Pollutant column with categorical data\n",
    "for col in df_encoded.columns:\n",
    "    if df_encoded.columns.get_loc(col) != 1:  # Checks if the column index is not 1\n",
    "        df_encoded[col] = scaler.fit_transform(df_encoded[[col]])   "
   ]
  },
  {
   "cell_type": "markdown",
   "metadata": {},
   "source": [
    "## Dimensionality Reduction using PCA"
   ]
  },
  {
   "cell_type": "code",
   "execution_count": 15,
   "metadata": {},
   "outputs": [],
   "source": [
    "scaled_df = df_encoded.copy()"
   ]
  },
  {
   "cell_type": "code",
   "execution_count": 16,
   "metadata": {},
   "outputs": [
    {
     "data": {
      "text/plain": [
       "Index(['Length (m)', 'Pollutant', 'Taxi', 'Car', 'Lgv', 'Rigid', 'Artic',\n",
       "       'Rigid2Axle', 'Rigid3Axle', 'Rigid4Axle', 'Artic3Axle', 'Artic5Axle',\n",
       "       'Artic6Axle', 'PetrolCar', 'DieselCar', 'PetrolLgv', 'DieselLgv'],\n",
       "      dtype='object')"
      ]
     },
     "execution_count": 16,
     "metadata": {},
     "output_type": "execute_result"
    }
   ],
   "source": [
    "scaled_df.columns"
   ]
  },
  {
   "cell_type": "code",
   "execution_count": 17,
   "metadata": {},
   "outputs": [
    {
     "data": {
      "text/html": [
       "<div>\n",
       "<style scoped>\n",
       "    .dataframe tbody tr th:only-of-type {\n",
       "        vertical-align: middle;\n",
       "    }\n",
       "\n",
       "    .dataframe tbody tr th {\n",
       "        vertical-align: top;\n",
       "    }\n",
       "\n",
       "    .dataframe thead th {\n",
       "        text-align: right;\n",
       "    }\n",
       "</style>\n",
       "<table border=\"1\" class=\"dataframe\">\n",
       "  <thead>\n",
       "    <tr style=\"text-align: right;\">\n",
       "      <th></th>\n",
       "      <th>Length (m)</th>\n",
       "      <th>Pollutant</th>\n",
       "      <th>Taxi</th>\n",
       "      <th>Car</th>\n",
       "      <th>Lgv</th>\n",
       "      <th>Rigid</th>\n",
       "      <th>Artic</th>\n",
       "      <th>Rigid2Axle</th>\n",
       "      <th>Rigid3Axle</th>\n",
       "      <th>Rigid4Axle</th>\n",
       "      <th>Artic3Axle</th>\n",
       "      <th>Artic5Axle</th>\n",
       "      <th>Artic6Axle</th>\n",
       "      <th>PetrolCar</th>\n",
       "      <th>DieselCar</th>\n",
       "      <th>PetrolLgv</th>\n",
       "      <th>DieselLgv</th>\n",
       "    </tr>\n",
       "  </thead>\n",
       "  <tbody>\n",
       "    <tr>\n",
       "      <th>0</th>\n",
       "      <td>-0.146272</td>\n",
       "      <td>0</td>\n",
       "      <td>0.133231</td>\n",
       "      <td>0.574161</td>\n",
       "      <td>0.533644</td>\n",
       "      <td>0.335339</td>\n",
       "      <td>0.307420</td>\n",
       "      <td>0.347038</td>\n",
       "      <td>0.298492</td>\n",
       "      <td>0.312592</td>\n",
       "      <td>0.309436</td>\n",
       "      <td>0.262045</td>\n",
       "      <td>0.377198</td>\n",
       "      <td>0.564902</td>\n",
       "      <td>0.590562</td>\n",
       "      <td>0.520822</td>\n",
       "      <td>0.533923</td>\n",
       "    </tr>\n",
       "    <tr>\n",
       "      <th>2</th>\n",
       "      <td>-0.716215</td>\n",
       "      <td>0</td>\n",
       "      <td>-0.070241</td>\n",
       "      <td>-0.095218</td>\n",
       "      <td>-0.099697</td>\n",
       "      <td>-0.102513</td>\n",
       "      <td>-0.102275</td>\n",
       "      <td>-0.101933</td>\n",
       "      <td>-0.104553</td>\n",
       "      <td>-0.100574</td>\n",
       "      <td>-0.102088</td>\n",
       "      <td>-0.107975</td>\n",
       "      <td>-0.092938</td>\n",
       "      <td>-0.095448</td>\n",
       "      <td>-0.094599</td>\n",
       "      <td>-0.099587</td>\n",
       "      <td>-0.099699</td>\n",
       "    </tr>\n",
       "    <tr>\n",
       "      <th>3</th>\n",
       "      <td>-0.732990</td>\n",
       "      <td>0</td>\n",
       "      <td>-0.076562</td>\n",
       "      <td>-0.116436</td>\n",
       "      <td>-0.119547</td>\n",
       "      <td>-0.116763</td>\n",
       "      <td>-0.116013</td>\n",
       "      <td>-0.116425</td>\n",
       "      <td>-0.118014</td>\n",
       "      <td>-0.114190</td>\n",
       "      <td>-0.115880</td>\n",
       "      <td>-0.120391</td>\n",
       "      <td>-0.108696</td>\n",
       "      <td>-0.116330</td>\n",
       "      <td>-0.116411</td>\n",
       "      <td>-0.119376</td>\n",
       "      <td>-0.119550</td>\n",
       "    </tr>\n",
       "    <tr>\n",
       "      <th>4</th>\n",
       "      <td>-0.759613</td>\n",
       "      <td>0</td>\n",
       "      <td>-0.086594</td>\n",
       "      <td>-0.150112</td>\n",
       "      <td>-0.151050</td>\n",
       "      <td>-0.139380</td>\n",
       "      <td>-0.137816</td>\n",
       "      <td>-0.139426</td>\n",
       "      <td>-0.139378</td>\n",
       "      <td>-0.135799</td>\n",
       "      <td>-0.137770</td>\n",
       "      <td>-0.140096</td>\n",
       "      <td>-0.133705</td>\n",
       "      <td>-0.149474</td>\n",
       "      <td>-0.151030</td>\n",
       "      <td>-0.150783</td>\n",
       "      <td>-0.151055</td>\n",
       "    </tr>\n",
       "    <tr>\n",
       "      <th>5</th>\n",
       "      <td>2.890879</td>\n",
       "      <td>0</td>\n",
       "      <td>1.288916</td>\n",
       "      <td>4.467370</td>\n",
       "      <td>4.168503</td>\n",
       "      <td>2.961707</td>\n",
       "      <td>2.851740</td>\n",
       "      <td>3.014282</td>\n",
       "      <td>2.789966</td>\n",
       "      <td>2.827114</td>\n",
       "      <td>2.863663</td>\n",
       "      <td>2.561803</td>\n",
       "      <td>3.295455</td>\n",
       "      <td>4.394956</td>\n",
       "      <td>4.595697</td>\n",
       "      <td>4.155635</td>\n",
       "      <td>4.168761</td>\n",
       "    </tr>\n",
       "    <tr>\n",
       "      <th>7</th>\n",
       "      <td>1.711668</td>\n",
       "      <td>0</td>\n",
       "      <td>1.423972</td>\n",
       "      <td>4.900743</td>\n",
       "      <td>4.646585</td>\n",
       "      <td>3.405233</td>\n",
       "      <td>3.294391</td>\n",
       "      <td>3.554147</td>\n",
       "      <td>2.690106</td>\n",
       "      <td>3.279174</td>\n",
       "      <td>3.003356</td>\n",
       "      <td>3.516175</td>\n",
       "      <td>3.234697</td>\n",
       "      <td>4.852863</td>\n",
       "      <td>4.981841</td>\n",
       "      <td>4.703752</td>\n",
       "      <td>4.645295</td>\n",
       "    </tr>\n",
       "    <tr>\n",
       "      <th>8</th>\n",
       "      <td>1.921565</td>\n",
       "      <td>0</td>\n",
       "      <td>3.204917</td>\n",
       "      <td>10.811427</td>\n",
       "      <td>10.140913</td>\n",
       "      <td>13.041500</td>\n",
       "      <td>13.458369</td>\n",
       "      <td>12.933044</td>\n",
       "      <td>13.408688</td>\n",
       "      <td>12.838820</td>\n",
       "      <td>13.797091</td>\n",
       "      <td>13.333641</td>\n",
       "      <td>13.251427</td>\n",
       "      <td>10.669753</td>\n",
       "      <td>11.058498</td>\n",
       "      <td>10.232518</td>\n",
       "      <td>10.138831</td>\n",
       "    </tr>\n",
       "    <tr>\n",
       "      <th>9</th>\n",
       "      <td>0.604492</td>\n",
       "      <td>0</td>\n",
       "      <td>0.402751</td>\n",
       "      <td>1.462729</td>\n",
       "      <td>1.373354</td>\n",
       "      <td>0.918235</td>\n",
       "      <td>0.854650</td>\n",
       "      <td>0.944197</td>\n",
       "      <td>0.836596</td>\n",
       "      <td>0.863383</td>\n",
       "      <td>0.859078</td>\n",
       "      <td>0.756318</td>\n",
       "      <td>1.005128</td>\n",
       "      <td>1.441263</td>\n",
       "      <td>1.500503</td>\n",
       "      <td>1.344938</td>\n",
       "      <td>1.373973</td>\n",
       "    </tr>\n",
       "    <tr>\n",
       "      <th>10</th>\n",
       "      <td>-0.214361</td>\n",
       "      <td>0</td>\n",
       "      <td>0.118858</td>\n",
       "      <td>0.539574</td>\n",
       "      <td>0.494136</td>\n",
       "      <td>0.323811</td>\n",
       "      <td>0.308716</td>\n",
       "      <td>0.331625</td>\n",
       "      <td>0.298160</td>\n",
       "      <td>0.306754</td>\n",
       "      <td>0.310536</td>\n",
       "      <td>0.263470</td>\n",
       "      <td>0.378488</td>\n",
       "      <td>0.529300</td>\n",
       "      <td>0.557960</td>\n",
       "      <td>0.492440</td>\n",
       "      <td>0.494170</td>\n",
       "    </tr>\n",
       "    <tr>\n",
       "      <th>11</th>\n",
       "      <td>-0.757319</td>\n",
       "      <td>0</td>\n",
       "      <td>-0.085729</td>\n",
       "      <td>-0.147210</td>\n",
       "      <td>-0.148335</td>\n",
       "      <td>-0.137431</td>\n",
       "      <td>-0.135937</td>\n",
       "      <td>-0.137444</td>\n",
       "      <td>-0.137537</td>\n",
       "      <td>-0.133936</td>\n",
       "      <td>-0.135884</td>\n",
       "      <td>-0.138398</td>\n",
       "      <td>-0.131550</td>\n",
       "      <td>-0.146618</td>\n",
       "      <td>-0.148046</td>\n",
       "      <td>-0.148077</td>\n",
       "      <td>-0.148340</td>\n",
       "    </tr>\n",
       "  </tbody>\n",
       "</table>\n",
       "</div>"
      ],
      "text/plain": [
       "    Length (m)  Pollutant      Taxi        Car        Lgv      Rigid  \\\n",
       "0    -0.146272          0  0.133231   0.574161   0.533644   0.335339   \n",
       "2    -0.716215          0 -0.070241  -0.095218  -0.099697  -0.102513   \n",
       "3    -0.732990          0 -0.076562  -0.116436  -0.119547  -0.116763   \n",
       "4    -0.759613          0 -0.086594  -0.150112  -0.151050  -0.139380   \n",
       "5     2.890879          0  1.288916   4.467370   4.168503   2.961707   \n",
       "7     1.711668          0  1.423972   4.900743   4.646585   3.405233   \n",
       "8     1.921565          0  3.204917  10.811427  10.140913  13.041500   \n",
       "9     0.604492          0  0.402751   1.462729   1.373354   0.918235   \n",
       "10   -0.214361          0  0.118858   0.539574   0.494136   0.323811   \n",
       "11   -0.757319          0 -0.085729  -0.147210  -0.148335  -0.137431   \n",
       "\n",
       "        Artic  Rigid2Axle  Rigid3Axle  Rigid4Axle  Artic3Axle  Artic5Axle  \\\n",
       "0    0.307420    0.347038    0.298492    0.312592    0.309436    0.262045   \n",
       "2   -0.102275   -0.101933   -0.104553   -0.100574   -0.102088   -0.107975   \n",
       "3   -0.116013   -0.116425   -0.118014   -0.114190   -0.115880   -0.120391   \n",
       "4   -0.137816   -0.139426   -0.139378   -0.135799   -0.137770   -0.140096   \n",
       "5    2.851740    3.014282    2.789966    2.827114    2.863663    2.561803   \n",
       "7    3.294391    3.554147    2.690106    3.279174    3.003356    3.516175   \n",
       "8   13.458369   12.933044   13.408688   12.838820   13.797091   13.333641   \n",
       "9    0.854650    0.944197    0.836596    0.863383    0.859078    0.756318   \n",
       "10   0.308716    0.331625    0.298160    0.306754    0.310536    0.263470   \n",
       "11  -0.135937   -0.137444   -0.137537   -0.133936   -0.135884   -0.138398   \n",
       "\n",
       "    Artic6Axle  PetrolCar  DieselCar  PetrolLgv  DieselLgv  \n",
       "0     0.377198   0.564902   0.590562   0.520822   0.533923  \n",
       "2    -0.092938  -0.095448  -0.094599  -0.099587  -0.099699  \n",
       "3    -0.108696  -0.116330  -0.116411  -0.119376  -0.119550  \n",
       "4    -0.133705  -0.149474  -0.151030  -0.150783  -0.151055  \n",
       "5     3.295455   4.394956   4.595697   4.155635   4.168761  \n",
       "7     3.234697   4.852863   4.981841   4.703752   4.645295  \n",
       "8    13.251427  10.669753  11.058498  10.232518  10.138831  \n",
       "9     1.005128   1.441263   1.500503   1.344938   1.373973  \n",
       "10    0.378488   0.529300   0.557960   0.492440   0.494170  \n",
       "11   -0.131550  -0.146618  -0.148046  -0.148077  -0.148340  "
      ]
     },
     "execution_count": 17,
     "metadata": {},
     "output_type": "execute_result"
    }
   ],
   "source": [
    "scaled_df.head(10)"
   ]
  },
  {
   "cell_type": "markdown",
   "metadata": {},
   "source": [
    "## Exploring Data"
   ]
  },
  {
   "cell_type": "markdown",
   "metadata": {},
   "source": [
    "##### Uncomment the code below to visualize the distribution of each feature using histograms."
   ]
  },
  {
   "cell_type": "code",
   "execution_count": null,
   "metadata": {},
   "outputs": [],
   "source": [
    "'''# Visualize the distribution of each feature using histograms.\n",
    "plt.figure(figsize=(18, 9))\n",
    "column_names = scaled_df.columns\n",
    "column_names = column_names.to_list()\n",
    "for i, feature in enumerate(column_names):\n",
    "    plt.subplot(4, 4, i + 1)\n",
    "    sns.histplot(data=scaled_df, x=feature, kde=True)\n",
    "    plt.title(f'{feature} Distribution')\n",
    "plt.tight_layout()\n",
    "plt.show()'''"
   ]
  },
  {
   "cell_type": "markdown",
   "metadata": {},
   "source": [
    "## PCA model for dimensionality Reduction and Data Exploration"
   ]
  },
  {
   "cell_type": "markdown",
   "metadata": {},
   "source": [
    "#### Step 1: Determine the optimal number of components"
   ]
  },
  {
   "cell_type": "code",
   "execution_count": 18,
   "metadata": {},
   "outputs": [],
   "source": [
    "# calculate covariance matrix, eigenvalues and eigenvectors\n",
    "cov_mat = np.cov(scaled_df.T)\n",
    "eigen_vals, eigen_vecs = np.linalg.eig(cov_mat)\n",
    "\n",
    "exp_var = []\n",
    "\n",
    "# Sort the eigenvalues in descending order\n",
    "eigen_vals = np.sort(eigen_vals)[::-1]\n",
    "\n",
    "for i in eigen_vals:\n",
    "  var = (i / np.sum(eigen_vals)) * 100\n",
    "  exp_var.append(var)"
   ]
  },
  {
   "cell_type": "code",
   "execution_count": null,
   "metadata": {},
   "outputs": [],
   "source": [
    "# Visualize the explained variance of each principal component as a bar plot\n",
    "bar = plt.bar(range(1, 18), exp_var, align='center',\n",
    "        label='Individual explained variance')\n",
    "\n",
    "# Adding data labels to the top of bars \n",
    "for i, bar in enumerate(bar):\n",
    "    plt.text(bar.get_x() + bar.get_width() / 2, bar.get_height(), f'{exp_var[i]:.1f}%', \n",
    "             ha='center', va='bottom')\n",
    "\n",
    "plt.ylabel('Percentage of variance explained (%)')\n",
    "plt.xlabel('Principal component index')\n",
    "plt.xticks(ticks=list(range(1, 18)))\n",
    "plt.legend(loc='best')\n",
    "plt.tight_layout()"
   ]
  },
  {
   "cell_type": "code",
   "execution_count": null,
   "metadata": {},
   "outputs": [],
   "source": [
    "# Perform Principal Component Analysis (PCA) on the scaled dataset\n",
    "# The Scree Plot visualizes the eigenvalues (explained variance) of each principal component\n",
    "pca = PCA()\n",
    "x = pca.fit_transform(scaled_df)\n",
    "explained_variance = pca.explained_variance_ratio_\n",
    "plt.plot(pca.explained_variance_, marker='o')\n",
    "plt.xlabel(\"Eigenvalue number\")\n",
    "plt.ylabel(\"Eigenvalue size\")\n",
    "plt.title(\"Scree Plot\")"
   ]
  },
  {
   "cell_type": "markdown",
   "metadata": {},
   "source": [
    "#### Step 2: Apply PCA"
   ]
  },
  {
   "cell_type": "markdown",
   "metadata": {},
   "source": [
    "#### Trying and evaluating the results of the PCA model with 3 components"
   ]
  },
  {
   "cell_type": "code",
   "execution_count": null,
   "metadata": {},
   "outputs": [],
   "source": [
    "# Create PCA\n",
    "pca = PCA(n_components=3)\n",
    "principalComponents = pca.fit_transform(scaled_df)\n",
    "print(f'Sum of PCA explained variance ratio: {sum(pca.explained_variance_ratio_)} \\n===============================')\n",
    "print(f'PCA explained variance ratio: {pca.explained_variance_ratio_} \\n===============================')\n",
    "\n",
    "# Generate loadings\n",
    "loadings = pca.components_.T * np.sqrt(pca.explained_variance_)\n",
    "loadings_df = pd.DataFrame(loadings, columns=['PC1', 'PC2', 'PC3'], index=scaled_df.columns)\n",
    "print(f'Loadings:\\n{loadings_df}\\n===============================')\n",
    "\n",
    "# Create DataFrame with principal components\n",
    "pca_df = pd.DataFrame(data=principalComponents, columns=['PC1', 'PC2', 'PC3'])\n",
    "print(pca_df)"
   ]
  },
  {
   "cell_type": "markdown",
   "metadata": {},
   "source": [
    "#### Visualise PCA results"
   ]
  },
  {
   "cell_type": "code",
   "execution_count": null,
   "metadata": {},
   "outputs": [],
   "source": [
    "# Visualize the data using a scatter plot of the first two principal components (PC1 vs PC2)\n",
    "ax = sns.scatterplot(x=pca_df.iloc[:, 0], y=pca_df.iloc[:, 2])\n",
    "plt.xlabel('PC1')\n",
    "plt.ylabel('PC3')\n",
    "plt.title('PCA Plot of Data (PC1 vs PC3)')\n",
    "plt.show()"
   ]
  },
  {
   "cell_type": "code",
   "execution_count": null,
   "metadata": {},
   "outputs": [],
   "source": [
    "# Visualize the data using a scatter plot of the first two principal components (PC2 vs PC3)\n",
    "ax = sns.scatterplot(x=pca_df.iloc[:, 1], y=pca_df.iloc[:, 2])\n",
    "plt.xlabel('PC2')\n",
    "plt.ylabel('PC3')\n",
    "plt.title('PCA Plot of Data (PC2 vs PC3)')\n",
    "plt.show()"
   ]
  },
  {
   "cell_type": "code",
   "execution_count": null,
   "metadata": {},
   "outputs": [],
   "source": [
    "# Visualize the data using a scatter plot of the first two principal components (PC1 vs PC3)\n",
    "ax = sns.scatterplot(x=pca_df.iloc[:, 1], y=pca_df.iloc[:, 2])\n",
    "plt.xlabel('PC1')\n",
    "plt.ylabel('PC3')\n",
    "plt.title('PCA Plot of Data (PC1 vs PC3)')\n",
    "plt.show()"
   ]
  },
  {
   "cell_type": "markdown",
   "metadata": {},
   "source": [
    "#### Trying and evaluating the results of the PCA with 2 components\n",
    "\n",
    "###### Since PC2 vs PC3 and PC1 vs PC3 look similar, it could indicate that PC3 might capture less variance in the data compared to PC1 and PC2, so we try again with 2 components"
   ]
  },
  {
   "cell_type": "code",
   "execution_count": 19,
   "metadata": {},
   "outputs": [
    {
     "name": "stdout",
     "output_type": "stream",
     "text": [
      "Sum of PCA explained variance ratio: 0.8720089564662086 \n",
      "===============================\n",
      "PCA explained variance ratio: [0.58488676 0.2871222 ] \n",
      "===============================\n",
      "Most relevant features: [[0.04591803 0.42392073 0.12246172 0.23807608 0.23658464 0.24256585\n",
      "  0.24144168 0.24228089 0.24192226 0.23781916 0.24097363 0.24177553\n",
      "  0.24053903 0.23763571 0.23845005 0.23650023 0.23658506]\n",
      " [0.04702775 0.9047211  0.0479301  0.09984177 0.09879022 0.12140461\n",
      "  0.12190024 0.12088996 0.12141133 0.11997585 0.12145296 0.12170587\n",
      "  0.12225247 0.10008629 0.09918698 0.0988516  0.09878827]]\n",
      "===============================\n"
     ]
    },
    {
     "data": {
      "text/html": [
       "<div>\n",
       "<style scoped>\n",
       "    .dataframe tbody tr th:only-of-type {\n",
       "        vertical-align: middle;\n",
       "    }\n",
       "\n",
       "    .dataframe tbody tr th {\n",
       "        vertical-align: top;\n",
       "    }\n",
       "\n",
       "    .dataframe thead th {\n",
       "        text-align: right;\n",
       "    }\n",
       "</style>\n",
       "<table border=\"1\" class=\"dataframe\">\n",
       "  <thead>\n",
       "    <tr style=\"text-align: right;\">\n",
       "      <th></th>\n",
       "      <th>PC1</th>\n",
       "      <th>PC2</th>\n",
       "    </tr>\n",
       "  </thead>\n",
       "  <tbody>\n",
       "    <tr>\n",
       "      <th>0</th>\n",
       "      <td>3.319593</td>\n",
       "      <td>-3.432878</td>\n",
       "    </tr>\n",
       "    <tr>\n",
       "      <th>1</th>\n",
       "      <td>1.530990</td>\n",
       "      <td>-4.265177</td>\n",
       "    </tr>\n",
       "    <tr>\n",
       "      <th>2</th>\n",
       "      <td>1.473263</td>\n",
       "      <td>-4.292056</td>\n",
       "    </tr>\n",
       "    <tr>\n",
       "      <th>3</th>\n",
       "      <td>1.381644</td>\n",
       "      <td>-4.334716</td>\n",
       "    </tr>\n",
       "    <tr>\n",
       "      <th>4</th>\n",
       "      <td>13.943996</td>\n",
       "      <td>1.514618</td>\n",
       "    </tr>\n",
       "    <tr>\n",
       "      <th>...</th>\n",
       "      <td>...</td>\n",
       "      <td>...</td>\n",
       "    </tr>\n",
       "    <tr>\n",
       "      <th>274355</th>\n",
       "      <td>-2.400427</td>\n",
       "      <td>3.880436</td>\n",
       "    </tr>\n",
       "    <tr>\n",
       "      <th>274356</th>\n",
       "      <td>-2.482178</td>\n",
       "      <td>3.796975</td>\n",
       "    </tr>\n",
       "    <tr>\n",
       "      <th>274357</th>\n",
       "      <td>-2.416769</td>\n",
       "      <td>3.863871</td>\n",
       "    </tr>\n",
       "    <tr>\n",
       "      <th>274358</th>\n",
       "      <td>-2.487637</td>\n",
       "      <td>3.791423</td>\n",
       "    </tr>\n",
       "    <tr>\n",
       "      <th>274359</th>\n",
       "      <td>-2.487653</td>\n",
       "      <td>3.791407</td>\n",
       "    </tr>\n",
       "  </tbody>\n",
       "</table>\n",
       "<p>274360 rows × 2 columns</p>\n",
       "</div>"
      ],
      "text/plain": [
       "              PC1       PC2\n",
       "0        3.319593 -3.432878\n",
       "1        1.530990 -4.265177\n",
       "2        1.473263 -4.292056\n",
       "3        1.381644 -4.334716\n",
       "4       13.943996  1.514618\n",
       "...           ...       ...\n",
       "274355  -2.400427  3.880436\n",
       "274356  -2.482178  3.796975\n",
       "274357  -2.416769  3.863871\n",
       "274358  -2.487637  3.791423\n",
       "274359  -2.487653  3.791407\n",
       "\n",
       "[274360 rows x 2 columns]"
      ]
     },
     "execution_count": 19,
     "metadata": {},
     "output_type": "execute_result"
    }
   ],
   "source": [
    "# Create PCA\n",
    "pca = PCA(n_components=2)\n",
    "principalComponents = pca.fit_transform(scaled_df)\n",
    "print(f'Sum of PCA explained variance ratio: {sum(pca.explained_variance_ratio_)} \\n===============================')\n",
    "print(f'PCA explained variance ratio: {pca.explained_variance_ratio_} \\n===============================')\n",
    "\n",
    "# Find most relevant features for PC1 and PC2\n",
    "print(f'Most relevant features: {abs(pca.components_)}\\n===============================')\n",
    "\n",
    "# Generate loadings\n",
    "pca_df = pd.DataFrame(data = principalComponents, columns=['PC1', 'PC2'])\n",
    "pca_df.reset_index(drop=True, inplace=True)\n",
    "print(pca_df)"
   ]
  },
  {
   "cell_type": "code",
   "execution_count": 20,
   "metadata": {},
   "outputs": [
    {
     "data": {
      "image/png": "[encoded data removed]",
      "text/plain": [
       "<Figure size 640x480 with 1 Axes>"
      ]
     },
     "metadata": {},
     "output_type": "display_data"
    }
   ],
   "source": [
    "# Visualize the data using a scatter plot of the two principal components (PC1 vs PC2)\n",
    "ax = sns.scatterplot(x=pca_df.iloc[:, 0], y=pca_df.iloc[:, 1])\n",
    "plt.xlabel('PC1')\n",
    "plt.ylabel('PC2')\n",
    "plt.title('PCA Plot of Data (PCA1 vs PCA2)')\n",
    "plt.show()"
   ]
  }
 ],
 "metadata": {
  "kernelspec": {
   "display_name": "ml",
   "language": "python",
   "name": "python3"
  },
  "language_info": {
   "codemirror_mode": {
    "name": "ipython",
    "version": 3
   },
   "file_extension": ".py",
   "mimetype": "text/x-python",
   "name": "python",
   "nbconvert_exporter": "python",
   "pygments_lexer": "ipython3",
   "version": "3.11.7"
  }
 },
 "nbformat": 4,
 "nbformat_minor": 2
}
