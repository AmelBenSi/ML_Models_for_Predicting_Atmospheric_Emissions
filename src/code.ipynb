{
 "cells": [
  {
   "cell_type": "code",
   "execution_count": 19,
   "metadata": {},
   "outputs": [],
   "source": [
    "# import modules\n",
    "import os\n",
    "import pandas as pd\n",
    "import numpy as np\n",
    "from sklearn.preprocessing import StandardScaler\n",
    "import seaborn as sns\n",
    "import matplotlib.pyplot as plt\n",
    "import warnings\n",
    "from sklearn.model_selection import train_test_split\n",
    "from sklearn.preprocessing import StandardScaler\n",
    "from sklearn.metrics import mean_absolute_error, mean_squared_error, r2_score\n",
    "from sklearn.ensemble import RandomForestRegressor\n",
    "from sklearn.ensemble import BaggingRegressor\n",
    "from sklearn.tree import DecisionTreeRegressor\n",
    "warnings.filterwarnings('ignore')"
   ]
  },
  {
   "cell_type": "markdown",
   "metadata": {},
   "source": [
    "## Data Precprocessing "
   ]
  },
  {
   "cell_type": "code",
   "execution_count": 2,
   "metadata": {},
   "outputs": [],
   "source": [
    "# assign path\n",
    "path, dirs, files = next(os.walk('../data/csv'))\n",
    "file_count = len(files)\n",
    "\n",
    "# create empty list\n",
    "dataframes_list = []\n",
    "# append datasets to the list \n",
    "for i in range(file_count):\n",
    "    temp_df = pd.read_csv(path+'/'+files[i])\n",
    "    temp_df = temp_df.drop(columns='year')\n",
    "    \n",
    "    # Assign a unique pollutant number to each dataset\n",
    "    # The value of 'i+1' ensures that each dataset is assigned a unique number starting from 1\n",
    "    temp_df.insert(2, 'Pollutant', i+1) # \n",
    "    dataframes_list.append(temp_df)\n",
    "\n",
    "# Concatenate dataframes into one signle dataframe\n",
    "df = pd.concat(dataframes_list, ignore_index= True)    "
   ]
  },
  {
   "cell_type": "code",
   "execution_count": 3,
   "metadata": {},
   "outputs": [],
   "source": [
    "# Standardizing Data\n",
    "scaler = StandardScaler()\n",
    "\n",
    "# Apply StandardScaler to each column except the third one (index 2)\n",
    "for col in df.columns:\n",
    "    if df.columns.get_loc(col) != 2:  # Checks if the column index is not 2\n",
    "        df[col] = scaler.fit_transform(df[[col]])   "
   ]
  },
  {
   "cell_type": "code",
   "execution_count": 4,
   "metadata": {},
   "outputs": [
    {
     "data": {
      "text/plain": [
       "x            0\n",
       "y            0\n",
       "Pollutant    0\n",
       "conct        0\n",
       "dtype: int64"
      ]
     },
     "execution_count": 4,
     "metadata": {},
     "output_type": "execute_result"
    }
   ],
   "source": [
    "df.isnull().sum()"
   ]
  },
  {
   "cell_type": "markdown",
   "metadata": {},
   "source": [
    "## Data Exploration/Visualization"
   ]
  },
  {
   "cell_type": "code",
   "execution_count": 5,
   "metadata": {},
   "outputs": [
    {
     "name": "stdout",
     "output_type": "stream",
     "text": [
      "<class 'pandas.core.frame.DataFrame'>\n",
      "RangeIndex: 29282140 entries, 0 to 29282139\n",
      "Data columns (total 4 columns):\n",
      " #   Column     Dtype  \n",
      "---  ------     -----  \n",
      " 0   x          float64\n",
      " 1   y          float64\n",
      " 2   Pollutant  int64  \n",
      " 3   conct      float64\n",
      "dtypes: float64(3), int64(1)\n",
      "memory usage: 893.6 MB\n"
     ]
    }
   ],
   "source": [
    "df.info()"
   ]
  },
  {
   "cell_type": "code",
   "execution_count": 6,
   "metadata": {},
   "outputs": [
    {
     "data": {
      "text/html": [
       "<div>\n",
       "<style scoped>\n",
       "    .dataframe tbody tr th:only-of-type {\n",
       "        vertical-align: middle;\n",
       "    }\n",
       "\n",
       "    .dataframe tbody tr th {\n",
       "        vertical-align: top;\n",
       "    }\n",
       "\n",
       "    .dataframe thead th {\n",
       "        text-align: right;\n",
       "    }\n",
       "</style>\n",
       "<table border=\"1\" class=\"dataframe\">\n",
       "  <thead>\n",
       "    <tr style=\"text-align: right;\">\n",
       "      <th></th>\n",
       "      <th>x</th>\n",
       "      <th>y</th>\n",
       "      <th>Pollutant</th>\n",
       "      <th>conct</th>\n",
       "    </tr>\n",
       "  </thead>\n",
       "  <tbody>\n",
       "    <tr>\n",
       "      <th>count</th>\n",
       "      <td>2.928214e+07</td>\n",
       "      <td>2.928214e+07</td>\n",
       "      <td>2.928214e+07</td>\n",
       "      <td>2.928214e+07</td>\n",
       "    </tr>\n",
       "    <tr>\n",
       "      <th>mean</th>\n",
       "      <td>3.704553e-15</td>\n",
       "      <td>-1.224374e-16</td>\n",
       "      <td>3.000000e+00</td>\n",
       "      <td>3.682128e-16</td>\n",
       "    </tr>\n",
       "    <tr>\n",
       "      <th>std</th>\n",
       "      <td>1.000000e+00</td>\n",
       "      <td>1.000000e+00</td>\n",
       "      <td>1.414214e+00</td>\n",
       "      <td>1.000000e+00</td>\n",
       "    </tr>\n",
       "    <tr>\n",
       "      <th>min</th>\n",
       "      <td>-1.878738e+00</td>\n",
       "      <td>-2.028950e+00</td>\n",
       "      <td>1.000000e+00</td>\n",
       "      <td>-1.123693e+00</td>\n",
       "    </tr>\n",
       "    <tr>\n",
       "      <th>25%</th>\n",
       "      <td>-8.421617e-01</td>\n",
       "      <td>-8.240802e-01</td>\n",
       "      <td>2.000000e+00</td>\n",
       "      <td>-6.046423e-01</td>\n",
       "    </tr>\n",
       "    <tr>\n",
       "      <th>50%</th>\n",
       "      <td>-3.992524e-03</td>\n",
       "      <td>3.078914e-02</td>\n",
       "      <td>3.000000e+00</td>\n",
       "      <td>-1.303285e-01</td>\n",
       "    </tr>\n",
       "    <tr>\n",
       "      <th>75%</th>\n",
       "      <td>8.341766e-01</td>\n",
       "      <td>8.391981e-01</td>\n",
       "      <td>4.000000e+00</td>\n",
       "      <td>3.145508e-01</td>\n",
       "    </tr>\n",
       "    <tr>\n",
       "      <th>max</th>\n",
       "      <td>2.205481e+00</td>\n",
       "      <td>1.927918e+00</td>\n",
       "      <td>5.000000e+00</td>\n",
       "      <td>5.150201e+02</td>\n",
       "    </tr>\n",
       "  </tbody>\n",
       "</table>\n",
       "</div>"
      ],
      "text/plain": [
       "                  x             y     Pollutant         conct\n",
       "count  2.928214e+07  2.928214e+07  2.928214e+07  2.928214e+07\n",
       "mean   3.704553e-15 -1.224374e-16  3.000000e+00  3.682128e-16\n",
       "std    1.000000e+00  1.000000e+00  1.414214e+00  1.000000e+00\n",
       "min   -1.878738e+00 -2.028950e+00  1.000000e+00 -1.123693e+00\n",
       "25%   -8.421617e-01 -8.240802e-01  2.000000e+00 -6.046423e-01\n",
       "50%   -3.992524e-03  3.078914e-02  3.000000e+00 -1.303285e-01\n",
       "75%    8.341766e-01  8.391981e-01  4.000000e+00  3.145508e-01\n",
       "max    2.205481e+00  1.927918e+00  5.000000e+00  5.150201e+02"
      ]
     },
     "execution_count": 6,
     "metadata": {},
     "output_type": "execute_result"
    }
   ],
   "source": [
    "df.describe()"
   ]
  },
  {
   "cell_type": "code",
   "execution_count": 7,
   "metadata": {},
   "outputs": [
    {
     "data": {
      "image/png": "[encoded data removed]",
      "text/plain": [
       "<Figure size 640x480 with 1 Axes>"
      ]
     },
     "metadata": {},
     "output_type": "display_data"
    },
    {
     "data": {
      "image/png": "[encoded data removed]",
      "text/plain": [
       "<Figure size 640x480 with 1 Axes>"
      ]
     },
     "metadata": {},
     "output_type": "display_data"
    }
   ],
   "source": [
    "def remove_outliers(df, column):\n",
    "    sns.boxplot(df[column])\n",
    "    plt.title(f'Original Box Plot of {column}')\n",
    "    plt.show()\n",
    "\n",
    "    \n",
    "    for x in [column]:\n",
    "        q75,q25 = np.percentile(df.loc[:,x],[75,25])\n",
    "        intr_qr = q75-q25\n",
    " \n",
    "        max = q75+(1.5*intr_qr)\n",
    "        min = q25-(1.5*intr_qr)\n",
    " \n",
    "        df.loc[df[x] < min,x] = np.nan\n",
    "        df.loc[df[x] > max,x] = np.nan\n",
    "    \n",
    "    df[column].isnull().sum()\n",
    "    df = df.dropna()\n",
    " \n",
    "    sns.boxplot(df[column])\n",
    "    plt.title(f'Box Plot without Outliers of {column}')\n",
    "    plt.show()\n",
    "    return df\n",
    " \n",
    "df = remove_outliers(df, 'conct')"
   ]
  },
  {
   "cell_type": "code",
   "execution_count": 9,
   "metadata": {},
   "outputs": [],
   "source": [
    "correlation_matrix = df.corr()\n",
    "sns.heatmap(correlation_matrix, annot = True, cmap = 'viridis', \n",
    "            fmt = '0.2f', linewidth = 0.5)\n",
    "plt.title('Correlation Heatmap')\n",
    "plt.xlabel('Features')\n",
    "plt.ylabel('Features')\n",
    "plt.xticks(rotation = 45)\n",
    "plt.show()"
   ]
  },
  {
   "cell_type": "code",
   "execution_count": 10,
   "metadata": {},
   "outputs": [],
   "source": [
    "# 3D visulaisation\n",
    "fig = plt.figure(figsize = (20,20))\n",
    "plt.style.use('classic')\n",
    "ax = fig.add_subplot(111, projection='3d')\n",
    "ax.scatter(df['x'], df['y'],df['conct'], c = 'red')\n",
    "ax.set_xlabel('x', fontsize = 20)\n",
    "ax.set_ylabel('y', fontsize = 20)\n",
    "ax.set_zlabel('conct', fontsize = 20)"
   ]
  },
  {
   "cell_type": "markdown",
   "metadata": {},
   "source": [
    "## Regression Models"
   ]
  },
  {
   "cell_type": "code",
   "execution_count": 11,
   "metadata": {},
   "outputs": [],
   "source": [
    "X = df.drop(columns='conct').values  #features\n",
    "y = df['conct']  # Target variable"
   ]
  },
  {
   "cell_type": "code",
   "execution_count": 12,
   "metadata": {},
   "outputs": [],
   "source": [
    "# using the train test split function \n",
    "X_train, X_test, y_train, y_test = train_test_split(X,y, random_state=104, test_size=0.25, shuffle=True) "
   ]
  },
  {
   "cell_type": "code",
   "execution_count": 20,
   "metadata": {},
   "outputs": [],
   "source": [
    "# Function to evaluate the performance of different models\n",
    "def evaluate(model, X_train, X_test, y_train, y_test):\n",
    "    y_test_pred = model.predict(X_test)\n",
    "    y_train_pred = model.predict(X_train)\n",
    "\n",
    "# Evaluation metrics\n",
    "    print('TRAINING RESULTS FOR {model}: \\n===============================')\n",
    "    print(f'Mean Absolute Error (MAE) - Training: {mean_absolute_error(y_train, y_train_pred):.4f}')\n",
    "    print(f'Mean Squared Error (MSE) - Training: {mean_squared_error(y_train, y_train_pred):.4f}')\n",
    "    print(f'R-squared (R²) Score - Training: {r2_score(y_train, y_train_pred):.4f}')\n",
    "\n",
    "    print('\\nTESTING RESULTS FOR {model}: \\n===============================')\n",
    "    print(f'Mean Absolute Error (MAE) - Testing: {mean_absolute_error(y_test, y_test_pred):.4f}')\n",
    "    print(f'Mean Squared Error (MSE) - Testing: {mean_squared_error(y_test, y_test_pred):.4f}')\n",
    "    print(f'R-squared (R²) Score - Testing: {r2_score(y_test, y_test_pred):.4f}')"
   ]
  },
  {
   "cell_type": "markdown",
   "metadata": {},
   "source": [
    "#### ** Model 1: Decision Tree"
   ]
  },
  {
   "cell_type": "code",
   "execution_count": 14,
   "metadata": {},
   "outputs": [],
   "source": [
    "model1 =DecisionTreeRegressor()\n",
    "model1.fit(X_train, y_train)\n",
    "model1.predict(X_test)\n",
    "evaluate(model1, X_train, X_test, y_train, y_test)"
   ]
  },
  {
   "cell_type": "markdown",
   "metadata": {},
   "source": [
    "### Ensemble Methods\n",
    "#### ** Model 2: BaggingRegressor **"
   ]
  },
  {
   "cell_type": "code",
   "execution_count": null,
   "metadata": {},
   "outputs": [],
   "source": [
    "# Create a DecisionTreeRegressor as the base estimator\n",
    "tree = DecisionTreeRegressor()\n",
    "# Create a BaggingRegressor ensemble model using DecisionTreeRegressor as the base estimator\n",
    "model2 = BaggingRegressor(base_estimator=tree, n_estimators=10, random_state=42)\n",
    "model2.fit(X_train, y_train)\n",
    "evaluate(model2, X_train, X_test, y_train, y_test)"
   ]
  },
  {
   "cell_type": "markdown",
   "metadata": {},
   "source": [
    "#### ** Model 3: Random Forest Reggressor **"
   ]
  },
  {
   "cell_type": "code",
   "execution_count": null,
   "metadata": {},
   "outputs": [],
   "source": [
    "# Fitting Random Forest Regression to the dataset\n",
    "model3 = RandomForestRegressor(n_estimators=10, random_state=0, oob_score=True)\n",
    "# Fit the regressor with x and y data\n",
    "model3.fit(X_train, y_train)\n",
    "evaluate(model3, X_train, X_test, y_train, y_test)"
   ]
  }
 ],
 "metadata": {
  "kernelspec": {
   "display_name": "ml",
   "language": "python",
   "name": "python3"
  },
  "language_info": {
   "codemirror_mode": {
    "name": "ipython",
    "version": 3
   },
   "file_extension": ".py",
   "mimetype": "text/x-python",
   "name": "python",
   "nbconvert_exporter": "python",
   "pygments_lexer": "ipython3",
   "version": "3.12.2"
  }
 },
 "nbformat": 4,
 "nbformat_minor": 2
}
